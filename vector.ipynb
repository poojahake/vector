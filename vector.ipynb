{
  "nbformat": 4,
  "nbformat_minor": 0,
  "metadata": {
    "colab": {
      "private_outputs": true,
      "provenance": [],
      "gpuType": "T4"
    },
    "kernelspec": {
      "name": "python3",
      "display_name": "Python 3"
    },
    "language_info": {
      "name": "python"
    },
    "accelerator": "GPU",
    "gpuClass": "standard"
  },
  "cells": [
    {
      "cell_type": "code",
      "execution_count": null,
      "metadata": {
        "id": "XUT1KmgkNr0B"
      },
      "outputs": [],
      "source": [
        "!nvcc --version"
      ]
    },
    {
      "cell_type": "code",
      "source": [
        "code = \"\"\"\n",
        "#include <stdio.h>\n",
        "#include <stdlib.h>\n",
        "#define N 1000000\n",
        "__global__ void add(int *a, int *b, int *c) {\n",
        "int tid = blockIdx.x * blockDim.x + threadIdx.x;\n",
        "if (tid < N) {\n",
        "c[tid] = a[tid] + b[tid];\n",
        "}\n",
        "}\n",
        "int main() {\n",
        "int *a, *b, *c;\n",
        "int *d_a, *d_b, *d_c;\n",
        "int size = N * sizeof(int);\n",
        "// Allocate memory on host\n",
        "a = (int*)malloc(size);\n",
        "b = (int*)malloc(size);\n",
        "c = (int*)malloc(size);\n",
        "// Initialize arrays\n",
        "for (int i = 0; i < N; i++) {\n",
        "a[i] = i;\n",
        "b[i] = i * 2;\n",
        "}\n",
        "// Allocate memory on device\n",
        "cudaMalloc(&d_a, size);\n",
        "cudaMalloc(&d_b, size);\n",
        "cudaMalloc(&d_c, size);\n",
        "// Copy data from host to device\n",
        "cudaMemcpy(d_a, a, size, cudaMemcpyHostToDevice);\n",
        "cudaMemcpy(d_b, b, size, cudaMemcpyHostToDevice);\n",
        "// Launch kernel with 1 million threads\n",
        "add<<<(N + 255) / 256, 256>>>(d_a, d_b, d_c);\n",
        "// Copy result from device to host\n",
        "cudaMemcpy(c, d_c, size, cudaMemcpyDeviceToHost);\n",
        "// Print first and last elements of result\n",
        "printf(\"c[0]=%d, c[%d] = %d\",c[0],N-1,c[N-1]);\n",
        "// Free memory\n",
        "free(a);\n",
        "free(b);\n",
        "free(c);\n",
        "cudaFree(d_a);\n",
        "cudaFree(d_b);\n",
        "cudaFree(d_c);\n",
        "return 0;\n",
        "}\n",
        "\"\"\"\n",
        "\n",
        "\n",
        "\n"
      ],
      "metadata": {
        "id": "dxqYKn-iOL5t"
      },
      "execution_count": null,
      "outputs": []
    },
    {
      "cell_type": "code",
      "source": [
        "text_file = open(\"vector.cu\",\"w\")\n",
        "text_file.write(code)\n",
        "text_file.close()\n"
      ],
      "metadata": {
        "id": "xLjDSA_paZPu"
      },
      "execution_count": null,
      "outputs": []
    },
    {
      "cell_type": "code",
      "source": [
        "!nvcc vector.cu\n",
        "!./a.out\n"
      ],
      "metadata": {
        "id": "Qv37RY3hajAV"
      },
      "execution_count": null,
      "outputs": []
    },
    {
      "cell_type": "code",
      "source": [
        "!nvprof ./a.out\n"
      ],
      "metadata": {
        "id": "kbtDdlp8aqIm"
      },
      "execution_count": null,
      "outputs": []
    }
  ]
}